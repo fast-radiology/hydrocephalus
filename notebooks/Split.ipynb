{
 "cells": [
  {
   "cell_type": "markdown",
   "metadata": {},
   "source": [
    "# Settings"
   ]
  },
  {
   "cell_type": "code",
   "execution_count": 1,
   "metadata": {},
   "outputs": [],
   "source": [
    "COLAB = False\n",
    "SEED = 42"
   ]
  },
  {
   "cell_type": "markdown",
   "metadata": {},
   "source": [
    "# Get the data"
   ]
  },
  {
   "cell_type": "markdown",
   "metadata": {},
   "source": [
    "## Note\n",
    "If you are running the script on colab or any other GPU provider you need to download your own dataset.\n",
    "<br>\n",
    "We used google drive to store the dataset. You can find a few useful commands below"
   ]
  },
  {
   "cell_type": "code",
   "execution_count": 2,
   "metadata": {},
   "outputs": [],
   "source": [
    "if COLAB:\n",
    "    from google.colab import drive\n",
    "    drive.mount('/content/drive')\n",
    "    \n",
    "    # Copy your data \n",
    "    !cp ./drive/My\\ Drive/data2.tar.gz .\n",
    "    !tar xzf data2.tar.gz"
   ]
  },
  {
   "cell_type": "code",
   "execution_count": 3,
   "metadata": {},
   "outputs": [],
   "source": [
    "DATA_PATH = '../data/'\n",
    "PATIENT_REGEX_STR = r'^\\.\\./data\\/P[0-9]{1,3}$'\n",
    "N_FOLDS = 2\n",
    "SPLIT_NAME = 'sample_split.csv'\n",
    "SPLIT_DIR = '../split/'\n",
    "\n",
    "if COLAB:\n",
    "    DATA_PATH = './data/'\n",
    "    PATIENT_REGEX_STR = r'^\\./data\\/P[0-9]{1,3}$'\n",
    "    N_FOLDS = 10\n",
    "    SPLIT_NAME = 'split.csv'\n",
    "    SPLIT_DIR = './drive/My\\ Drive/Code/CV/'"
   ]
  },
  {
   "cell_type": "markdown",
   "metadata": {},
   "source": [
    "# Get the stats about the dataset"
   ]
  },
  {
   "cell_type": "code",
   "execution_count": 4,
   "metadata": {},
   "outputs": [
    {
     "data": {
      "text/html": [
       "<div>\n",
       "<style scoped>\n",
       "    .dataframe tbody tr th:only-of-type {\n",
       "        vertical-align: middle;\n",
       "    }\n",
       "\n",
       "    .dataframe tbody tr th {\n",
       "        vertical-align: top;\n",
       "    }\n",
       "\n",
       "    .dataframe thead th {\n",
       "        text-align: right;\n",
       "    }\n",
       "</style>\n",
       "<table border=\"1\" class=\"dataframe\">\n",
       "  <thead>\n",
       "    <tr style=\"text-align: right;\">\n",
       "      <th></th>\n",
       "      <th>examination_dirs</th>\n",
       "      <th>num_examinations</th>\n",
       "    </tr>\n",
       "  </thead>\n",
       "  <tbody>\n",
       "    <tr>\n",
       "      <th>0</th>\n",
       "      <td>P4</td>\n",
       "      <td>1</td>\n",
       "    </tr>\n",
       "    <tr>\n",
       "      <th>1</th>\n",
       "      <td>P3</td>\n",
       "      <td>1</td>\n",
       "    </tr>\n",
       "    <tr>\n",
       "      <th>2</th>\n",
       "      <td>P2</td>\n",
       "      <td>1</td>\n",
       "    </tr>\n",
       "    <tr>\n",
       "      <th>3</th>\n",
       "      <td>P1</td>\n",
       "      <td>2</td>\n",
       "    </tr>\n",
       "  </tbody>\n",
       "</table>\n",
       "</div>"
      ],
      "text/plain": [
       "  examination_dirs  num_examinations\n",
       "0               P4                 1\n",
       "1               P3                 1\n",
       "2               P2                 1\n",
       "3               P1                 2"
      ]
     },
     "execution_count": 4,
     "metadata": {},
     "output_type": "execute_result"
    }
   ],
   "source": [
    "import re\n",
    "import os\n",
    "import numpy as np\n",
    "import pandas as pd\n",
    "from sklearn.model_selection import KFold\n",
    "\n",
    "patient_regex = re.compile(PATIENT_REGEX_STR)\n",
    "examination_regex = re.compile(r'P[0-9]{1,3}')\n",
    "\n",
    "np.random.seed(SEED)\n",
    "\n",
    "examination_dirs = []\n",
    "num_examinations = []\n",
    "for root, dirs, files in os.walk(DATA_PATH):\n",
    "    if patient_regex.match(root):\n",
    "        examination_dirs.append(root[len(DATA_PATH):])\n",
    "        examinations = []\n",
    "        for directory in os.listdir(root):\n",
    "            if examination_regex.match(directory):\n",
    "                examinations.append(directory)\n",
    "                \n",
    "        num_examinations.append(len(examinations))\n",
    "        \n",
    "examination_dirs = np.array(examination_dirs)\n",
    "num_examinations = np.array(num_examinations)\n",
    "\n",
    "pd.DataFrame({\n",
    "    'examination_dirs': examination_dirs,\n",
    "    'num_examinations': num_examinations,\n",
    "})"
   ]
  },
  {
   "cell_type": "code",
   "execution_count": 5,
   "metadata": {},
   "outputs": [
    {
     "data": {
      "text/html": [
       "<div>\n",
       "<style scoped>\n",
       "    .dataframe tbody tr th:only-of-type {\n",
       "        vertical-align: middle;\n",
       "    }\n",
       "\n",
       "    .dataframe tbody tr th {\n",
       "        vertical-align: top;\n",
       "    }\n",
       "\n",
       "    .dataframe thead th {\n",
       "        text-align: right;\n",
       "    }\n",
       "</style>\n",
       "<table border=\"1\" class=\"dataframe\">\n",
       "  <thead>\n",
       "    <tr style=\"text-align: right;\">\n",
       "      <th></th>\n",
       "      <th>num_examinations</th>\n",
       "      <th>num_samples</th>\n",
       "      <th>patients</th>\n",
       "      <th>split</th>\n",
       "    </tr>\n",
       "  </thead>\n",
       "  <tbody>\n",
       "    <tr>\n",
       "      <th>0</th>\n",
       "      <td>1,1</td>\n",
       "      <td>2</td>\n",
       "      <td>P2,P4</td>\n",
       "      <td>1</td>\n",
       "    </tr>\n",
       "    <tr>\n",
       "      <th>1</th>\n",
       "      <td>2,1</td>\n",
       "      <td>3</td>\n",
       "      <td>P1,P3</td>\n",
       "      <td>2</td>\n",
       "    </tr>\n",
       "  </tbody>\n",
       "</table>\n",
       "</div>"
      ],
      "text/plain": [
       "  num_examinations  num_samples patients  split\n",
       "0              1,1            2    P2,P4      1\n",
       "1              2,1            3    P1,P3      2"
      ]
     },
     "execution_count": 5,
     "metadata": {},
     "output_type": "execute_result"
    }
   ],
   "source": [
    "indexes = np.argsort(num_examinations)[::-1]\n",
    "\n",
    "num_many_exam_patients = (num_examinations > 1).sum()\n",
    "\n",
    "\n",
    "kfold_method = KFold(N_FOLDS, shuffle=True, random_state=SEED)\n",
    "\n",
    "\n",
    "results = []\n",
    "\n",
    "# Each split gets at first patient with multiple examinations\n",
    "split_indexes = indexes[N_FOLDS:]\n",
    "\n",
    "for _id, (train_index, test_index) in enumerate(kfold_method.split(split_indexes), 1):\n",
    "    patients = [examination_dirs[indexes[N_FOLDS-_id]]] + list(examination_dirs[split_indexes[test_index]])\n",
    "    num_exams = [num_examinations[indexes[N_FOLDS-_id]]] + list(num_examinations[split_indexes[test_index]])\n",
    "    result = {\n",
    "        'split': _id,\n",
    "        'patients': \",\".join(map(str, patients)),\n",
    "        'num_examinations': \",\".join(map(str, num_exams)),\n",
    "        'num_samples': sum(num_exams),\n",
    "    }\n",
    "    results.append(result)\n",
    "\n",
    "cv_df = pd.DataFrame(results)\n",
    "cv_df"
   ]
  },
  {
   "cell_type": "code",
   "execution_count": 6,
   "metadata": {},
   "outputs": [],
   "source": [
    "cv_df.to_csv(f'{SPLIT_DIR}{SPLIT_NAME}', encoding='utf-8', index=False)"
   ]
  }
 ],
 "metadata": {
  "kernelspec": {
   "display_name": "Python 3",
   "language": "python",
   "name": "python3"
  },
  "language_info": {
   "codemirror_mode": {
    "name": "ipython",
    "version": 3
   },
   "file_extension": ".py",
   "mimetype": "text/x-python",
   "name": "python",
   "nbconvert_exporter": "python",
   "pygments_lexer": "ipython3",
   "version": "3.7.2"
  }
 },
 "nbformat": 4,
 "nbformat_minor": 2
}
