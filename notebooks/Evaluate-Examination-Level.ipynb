{
 "cells": [
  {
   "cell_type": "markdown",
   "metadata": {},
   "source": [
    "# Settings"
   ]
  },
  {
   "cell_type": "code",
   "execution_count": 1,
   "metadata": {},
   "outputs": [],
   "source": [
    "COLAB = False\n",
    "POSTPROCESS = True\n",
    "SEED = 42"
   ]
  },
  {
   "cell_type": "markdown",
   "metadata": {},
   "source": [
    "## Note\n",
    "CPU does not support half precision"
   ]
  },
  {
   "cell_type": "markdown",
   "metadata": {},
   "source": [
    "# Get the data"
   ]
  },
  {
   "cell_type": "markdown",
   "metadata": {},
   "source": [
    "## Note\n",
    "If you are running the script on colab or any other GPU provider you need to download your own dataset.\n",
    "<br>\n",
    "We used google drive to store the dataset. You can find a few useful commands below"
   ]
  },
  {
   "cell_type": "code",
   "execution_count": 2,
   "metadata": {
    "colab": {
     "base_uri": "https://localhost:8080/",
     "height": 156
    },
    "colab_type": "code",
    "id": "f3GEOBqCeYih",
    "outputId": "39758476-25fa-4e34-baec-e29752cf122c"
   },
   "outputs": [],
   "source": [
    "if COLAB:\n",
    "    from google.colab import drive\n",
    "    drive.mount('/content/drive')\n",
    "    \n",
    "    # Copy models created before\n",
    "    !cp -r ./drive/My\\ Drive/Code/CV/results/ .\n",
    "\n",
    "    # Copy your csv with splits \n",
    "    !cp ./drive/My\\ Drive/Code/CV/split.csv .\n",
    "    \n",
    "    # Copy your data \n",
    "    !cp ./drive/My\\ Drive/data2.tar.gz .\n",
    "    !tar xzf data2.tar.gz\n",
    "    \n",
    "    # Create useful directories\n",
    "    !mkdir models\n",
    "    for i in range(10):\n",
    "        !results/cp {i}.pth models/"
   ]
  },
  {
   "cell_type": "markdown",
   "metadata": {},
   "source": [
    "## Setup consts"
   ]
  },
  {
   "cell_type": "code",
   "execution_count": 3,
   "metadata": {},
   "outputs": [],
   "source": [
    "SPLIT_PATH = '../split/sample_split.csv'\n",
    "DATA_PATH = '../data/'\n",
    "MODELS_PATH = '../models'\n",
    "RESULTS_PATH = '../results/'\n",
    "\n",
    "if COLAB:\n",
    "    SPLIT_PATH = 'split.csv'\n",
    "    DATA_PATH = './data/'\n",
    "    MODELS_PATH = 'models'\n",
    "    RESULTS_PATH = './drive/My Drive/Code/CV/results/'"
   ]
  },
  {
   "cell_type": "markdown",
   "metadata": {},
   "source": [
    "## Note\n",
    "Colab requires restart after installation"
   ]
  },
  {
   "cell_type": "code",
   "execution_count": 4,
   "metadata": {
    "colab": {
     "base_uri": "https://localhost:8080/",
     "height": 1347
    },
    "colab_type": "code",
    "id": "bzrs8lx-euAL",
    "outputId": "7f292680-b7cf-42a9-8c13-8114454bcca7"
   },
   "outputs": [
    {
     "name": "stdout",
     "output_type": "stream",
     "text": [
      "Obtaining file:///Users/nozdi/python/hydrocephalus/src\n",
      "Requirement already satisfied: pydicom==1.2.2 in /Users/nozdi/.virtualenvs/hydrocephalus/lib/python3.7/site-packages (from hydrocephalus==1.0.0) (1.2.2)\n",
      "Requirement already satisfied: fastai==1.0.47.post1 in /Users/nozdi/.virtualenvs/hydrocephalus/lib/python3.7/site-packages (from hydrocephalus==1.0.0) (1.0.47.post1)\n",
      "Requirement already satisfied: opencv-python==4.0.0.21 in /Users/nozdi/.virtualenvs/hydrocephalus/lib/python3.7/site-packages (from hydrocephalus==1.0.0) (4.0.0.21)\n",
      "Requirement already satisfied: scikit-learn==0.20.3 in /Users/nozdi/.virtualenvs/hydrocephalus/lib/python3.7/site-packages (from hydrocephalus==1.0.0) (0.20.3)\n",
      "Requirement already satisfied: numpy>=1.15 in /Users/nozdi/.virtualenvs/hydrocephalus/lib/python3.7/site-packages (from fastai==1.0.47.post1->hydrocephalus==1.0.0) (1.16.2)\n",
      "Requirement already satisfied: spacy>=2.0.18 in /Users/nozdi/.virtualenvs/hydrocephalus/lib/python3.7/site-packages (from fastai==1.0.47.post1->hydrocephalus==1.0.0) (2.1.3)\n",
      "Requirement already satisfied: pandas in /Users/nozdi/.virtualenvs/hydrocephalus/lib/python3.7/site-packages (from fastai==1.0.47.post1->hydrocephalus==1.0.0) (0.24.2)\n",
      "Requirement already satisfied: pyyaml in /Users/nozdi/.virtualenvs/hydrocephalus/lib/python3.7/site-packages (from fastai==1.0.47.post1->hydrocephalus==1.0.0) (5.1)\n",
      "Requirement already satisfied: pynvx>=1.0.0; platform_system == \"Darwin\" in /Users/nozdi/.virtualenvs/hydrocephalus/lib/python3.7/site-packages (from fastai==1.0.47.post1->hydrocephalus==1.0.0) (1.0.0)\n",
      "Requirement already satisfied: fastprogress>=0.1.19 in /Users/nozdi/.virtualenvs/hydrocephalus/lib/python3.7/site-packages (from fastai==1.0.47.post1->hydrocephalus==1.0.0) (0.1.20)\n",
      "Requirement already satisfied: torchvision in /Users/nozdi/.virtualenvs/hydrocephalus/lib/python3.7/site-packages (from fastai==1.0.47.post1->hydrocephalus==1.0.0) (0.2.2.post3)\n",
      "Requirement already satisfied: Pillow in /Users/nozdi/.virtualenvs/hydrocephalus/lib/python3.7/site-packages (from fastai==1.0.47.post1->hydrocephalus==1.0.0) (6.0.0)\n",
      "Requirement already satisfied: scipy in /Users/nozdi/.virtualenvs/hydrocephalus/lib/python3.7/site-packages (from fastai==1.0.47.post1->hydrocephalus==1.0.0) (1.2.1)\n",
      "Requirement already satisfied: numexpr in /Users/nozdi/.virtualenvs/hydrocephalus/lib/python3.7/site-packages (from fastai==1.0.47.post1->hydrocephalus==1.0.0) (2.6.9)\n",
      "Requirement already satisfied: typing in /Users/nozdi/.virtualenvs/hydrocephalus/lib/python3.7/site-packages (from fastai==1.0.47.post1->hydrocephalus==1.0.0) (3.6.6)\n",
      "Requirement already satisfied: packaging in /Users/nozdi/.virtualenvs/hydrocephalus/lib/python3.7/site-packages (from fastai==1.0.47.post1->hydrocephalus==1.0.0) (19.0)\n",
      "Requirement already satisfied: requests in /Users/nozdi/.virtualenvs/hydrocephalus/lib/python3.7/site-packages (from fastai==1.0.47.post1->hydrocephalus==1.0.0) (2.21.0)\n",
      "Requirement already satisfied: torch>=1.0.0 in /Users/nozdi/.virtualenvs/hydrocephalus/lib/python3.7/site-packages (from fastai==1.0.47.post1->hydrocephalus==1.0.0) (1.0.1.post2)\n",
      "Requirement already satisfied: bottleneck in /Users/nozdi/.virtualenvs/hydrocephalus/lib/python3.7/site-packages (from fastai==1.0.47.post1->hydrocephalus==1.0.0) (1.2.1)\n",
      "Requirement already satisfied: matplotlib in /Users/nozdi/.virtualenvs/hydrocephalus/lib/python3.7/site-packages (from fastai==1.0.47.post1->hydrocephalus==1.0.0) (3.0.3)\n",
      "Requirement already satisfied: nvidia-ml-py3 in /Users/nozdi/.virtualenvs/hydrocephalus/lib/python3.7/site-packages (from fastai==1.0.47.post1->hydrocephalus==1.0.0) (7.352.0)\n",
      "Requirement already satisfied: beautifulsoup4 in /Users/nozdi/.virtualenvs/hydrocephalus/lib/python3.7/site-packages (from fastai==1.0.47.post1->hydrocephalus==1.0.0) (4.7.1)\n",
      "Requirement already satisfied: blis<0.3.0,>=0.2.2 in /Users/nozdi/.virtualenvs/hydrocephalus/lib/python3.7/site-packages (from spacy>=2.0.18->fastai==1.0.47.post1->hydrocephalus==1.0.0) (0.2.4)\n",
      "Requirement already satisfied: preshed<2.1.0,>=2.0.1 in /Users/nozdi/.virtualenvs/hydrocephalus/lib/python3.7/site-packages (from spacy>=2.0.18->fastai==1.0.47.post1->hydrocephalus==1.0.0) (2.0.1)\n",
      "Requirement already satisfied: wasabi<1.1.0,>=0.2.0 in /Users/nozdi/.virtualenvs/hydrocephalus/lib/python3.7/site-packages (from spacy>=2.0.18->fastai==1.0.47.post1->hydrocephalus==1.0.0) (0.2.1)\n",
      "Requirement already satisfied: jsonschema<3.0.0,>=2.6.0 in /Users/nozdi/.virtualenvs/hydrocephalus/lib/python3.7/site-packages (from spacy>=2.0.18->fastai==1.0.47.post1->hydrocephalus==1.0.0) (2.6.0)\n",
      "Requirement already satisfied: thinc<7.1.0,>=7.0.2 in /Users/nozdi/.virtualenvs/hydrocephalus/lib/python3.7/site-packages (from spacy>=2.0.18->fastai==1.0.47.post1->hydrocephalus==1.0.0) (7.0.4)\n",
      "Requirement already satisfied: plac<1.0.0,>=0.9.6 in /Users/nozdi/.virtualenvs/hydrocephalus/lib/python3.7/site-packages (from spacy>=2.0.18->fastai==1.0.47.post1->hydrocephalus==1.0.0) (0.9.6)\n",
      "Requirement already satisfied: cymem<2.1.0,>=2.0.2 in /Users/nozdi/.virtualenvs/hydrocephalus/lib/python3.7/site-packages (from spacy>=2.0.18->fastai==1.0.47.post1->hydrocephalus==1.0.0) (2.0.2)\n",
      "Requirement already satisfied: murmurhash<1.1.0,>=0.28.0 in /Users/nozdi/.virtualenvs/hydrocephalus/lib/python3.7/site-packages (from spacy>=2.0.18->fastai==1.0.47.post1->hydrocephalus==1.0.0) (1.0.2)\n",
      "Requirement already satisfied: srsly<1.1.0,>=0.0.5 in /Users/nozdi/.virtualenvs/hydrocephalus/lib/python3.7/site-packages (from spacy>=2.0.18->fastai==1.0.47.post1->hydrocephalus==1.0.0) (0.0.5)\n",
      "Requirement already satisfied: pytz>=2011k in /Users/nozdi/.virtualenvs/hydrocephalus/lib/python3.7/site-packages (from pandas->fastai==1.0.47.post1->hydrocephalus==1.0.0) (2018.9)\n",
      "Requirement already satisfied: python-dateutil>=2.5.0 in /Users/nozdi/.virtualenvs/hydrocephalus/lib/python3.7/site-packages (from pandas->fastai==1.0.47.post1->hydrocephalus==1.0.0) (2.8.0)\n",
      "Requirement already satisfied: six in /Users/nozdi/.virtualenvs/hydrocephalus/lib/python3.7/site-packages (from torchvision->fastai==1.0.47.post1->hydrocephalus==1.0.0) (1.12.0)\n",
      "Requirement already satisfied: pyparsing>=2.0.2 in /Users/nozdi/.virtualenvs/hydrocephalus/lib/python3.7/site-packages (from packaging->fastai==1.0.47.post1->hydrocephalus==1.0.0) (2.3.1)\n",
      "Requirement already satisfied: chardet<3.1.0,>=3.0.2 in /Users/nozdi/.virtualenvs/hydrocephalus/lib/python3.7/site-packages (from requests->fastai==1.0.47.post1->hydrocephalus==1.0.0) (3.0.4)\n",
      "Requirement already satisfied: urllib3<1.25,>=1.21.1 in /Users/nozdi/.virtualenvs/hydrocephalus/lib/python3.7/site-packages (from requests->fastai==1.0.47.post1->hydrocephalus==1.0.0) (1.24.1)\n",
      "Requirement already satisfied: idna<2.9,>=2.5 in /Users/nozdi/.virtualenvs/hydrocephalus/lib/python3.7/site-packages (from requests->fastai==1.0.47.post1->hydrocephalus==1.0.0) (2.8)\n",
      "Requirement already satisfied: certifi>=2017.4.17 in /Users/nozdi/.virtualenvs/hydrocephalus/lib/python3.7/site-packages (from requests->fastai==1.0.47.post1->hydrocephalus==1.0.0) (2019.3.9)\n",
      "Requirement already satisfied: cycler>=0.10 in /Users/nozdi/.virtualenvs/hydrocephalus/lib/python3.7/site-packages (from matplotlib->fastai==1.0.47.post1->hydrocephalus==1.0.0) (0.10.0)\n",
      "Requirement already satisfied: kiwisolver>=1.0.1 in /Users/nozdi/.virtualenvs/hydrocephalus/lib/python3.7/site-packages (from matplotlib->fastai==1.0.47.post1->hydrocephalus==1.0.0) (1.0.1)\n",
      "Requirement already satisfied: soupsieve>=1.2 in /Users/nozdi/.virtualenvs/hydrocephalus/lib/python3.7/site-packages (from beautifulsoup4->fastai==1.0.47.post1->hydrocephalus==1.0.0) (1.9)\n",
      "Requirement already satisfied: tqdm<5.0.0,>=4.10.0 in /Users/nozdi/.virtualenvs/hydrocephalus/lib/python3.7/site-packages (from thinc<7.1.0,>=7.0.2->spacy>=2.0.18->fastai==1.0.47.post1->hydrocephalus==1.0.0) (4.31.1)\n",
      "Requirement already satisfied: setuptools in /Users/nozdi/.virtualenvs/hydrocephalus/lib/python3.7/site-packages (from kiwisolver>=1.0.1->matplotlib->fastai==1.0.47.post1->hydrocephalus==1.0.0) (41.0.0)\n",
      "Installing collected packages: hydrocephalus\n",
      "  Found existing installation: hydrocephalus 1.0.0\n",
      "    Uninstalling hydrocephalus-1.0.0:\n"
     ]
    },
    {
     "name": "stdout",
     "output_type": "stream",
     "text": [
      "      Successfully uninstalled hydrocephalus-1.0.0\n",
      "  Running setup.py develop for hydrocephalus\n",
      "Successfully installed hydrocephalus\n"
     ]
    }
   ],
   "source": [
    "if COLAB:\n",
    "    !pip install -e git+https://github.com/fast-radiology/hydrocephalus.git#egg=hydrocephalus\\&subdirectory=src\n",
    "else:\n",
    "    !pip install -e ../src"
   ]
  },
  {
   "cell_type": "code",
   "execution_count": 5,
   "metadata": {
    "colab": {
     "base_uri": "https://localhost:8080/",
     "height": 731
    },
    "colab_type": "code",
    "id": "Q-Vak7Jqe_jj",
    "outputId": "1be735eb-983f-439e-c16c-47e2baa91b7f"
   },
   "outputs": [
    {
     "name": "stdout",
     "output_type": "stream",
     "text": [
      "   accuracy      dice examination   fn   fp       iou  precision  \\\n",
      "0  0.999466  0.995206        P1B1  171  109  0.990458   0.996264   \n",
      "1  0.999504  0.995157        P1B2  163   97  0.990361   0.996382   \n",
      "2  0.999466  0.995206        P3B1  171  109  0.990458   0.996264   \n",
      "\n",
      "   preds_volume    recall  split     tp  true_volume  volumetric_similarity  \n",
      "0   2901.708678  0.994151      1  29064  2907.875543               0.998939  \n",
      "1   2666.870499  0.993936      1  26715  2673.435226               0.998771  \n",
      "2   2901.708678  0.994151      1  29064  2907.875543               0.998939  \n",
      "accuracy                 0.999479\n",
      "dice                     0.995190\n",
      "iou                      0.990426\n",
      "precision                0.996303\n",
      "recall                   0.994079\n",
      "volumetric_similarity    0.998883\n",
      "dtype: float64\n"
     ]
    }
   ],
   "source": [
    "import pandas as pd\n",
    "import numpy as np\n",
    "import fastai.vision\n",
    "\n",
    "import hydrocephalus\n",
    "\n",
    "\n",
    "hydrocephalus.seed.random_seed(SEED)\n",
    "\n",
    "fastai.vision.image.open_image = hydrocephalus.dicom.open_dcm_image\n",
    "fastai.vision.image.open_mask = hydrocephalus.dicom.open_dcm_mask\n",
    "fastai.vision.data.open_image = hydrocephalus.dicom.open_dcm_image\n",
    "fastai.vision.data.open_mask = hydrocephalus.dicom.open_dcm_mask\n",
    "open_image = hydrocephalus.dicom.open_dcm_image\n",
    "open_mask = hydrocephalus.dicom.open_dcm_mask\n",
    "\n",
    "\n",
    "metrics = [\n",
    "    hydrocephalus.metrics.dice,\n",
    "    hydrocephalus.metrics.iou,\n",
    "    hydrocephalus.metrics.accuracy,\n",
    "    hydrocephalus.metrics.tp,\n",
    "    hydrocephalus.metrics.fp,\n",
    "    hydrocephalus.metrics.fn,\n",
    "]\n",
    "\n",
    "\n",
    "cv_df = pd.read_csv(SPLIT_PATH)\n",
    "\n",
    "for cv_split_num in range(cv_df.split.max() + 1):\n",
    "    split_series = cv_df[cv_df.split == cv_split_num].squeeze()\n",
    "    print(f\"RUNNING:\\n{split_series}\")\n",
    "\n",
    "    scans = hydrocephalus.data.get_scans(DATA_PATH)\n",
    "\n",
    "    validation_patients = split_series['patients'].split(',')\n",
    "    validation_patient_dirs = [f\"{patient}/\" for patient in validation_patients]\n",
    "\n",
    "    size = hydrocephalus.dicom.get_shape(scans[0])\n",
    "    bs = 10\n",
    "\n",
    "    results = []\n",
    "\n",
    "    for val_patient_dir in validation_patient_dirs:\n",
    "        val_filtering_func = lambda img_src: val_patient_dir in str(img_src)\n",
    "        val_patient_scans = list(filter(val_filtering_func, scans))\n",
    "        examinations = pd.Series(val_patient_scans).str.split('/').str[3].unique()\n",
    "\n",
    "        for examination in examinations:\n",
    "            val_examination_filtering_func = lambda img_src: (\n",
    "                val_patient_dir + examination\n",
    "            ) in str(img_src)\n",
    "            val_patient_examination_scans = list(\n",
    "                filter(val_examination_filtering_func, scans)\n",
    "            )\n",
    "\n",
    "            data = hydrocephalus.data.get_data(\n",
    "                scans, valid_func=val_examination_filtering_func, bs=bs, size=size\n",
    "            )\n",
    "\n",
    "            hydrocephalus.seed.random_seed(SEED)\n",
    "\n",
    "            learn = hydrocephalus.learner.get_learner(data, model_dir=MODELS_PATH)\n",
    "\n",
    "            learn.load(f'{cv_split_num}')\n",
    "            preds, true = learn.get_preds()\n",
    "            true = true.squeeze()\n",
    "            preds = preds.argmax(1)\n",
    "\n",
    "            if POSTPROCESS:\n",
    "                preds = hydrocephalus.postprocess.postprocess(preds)\n",
    "            \n",
    "            results.append(hydrocephalus.metrics.get_result(\n",
    "                preds=preds,\n",
    "                true=true,\n",
    "                scans=val_patient_examination_scans,\n",
    "                metrics=metrics,\n",
    "                split=cv_split_num,\n",
    "                examination=examination,\n",
    "            ))\n",
    "            \n",
    "    csv_name = f'{RESULTS_PATH}{cv_split_num}_proper{\"_postprocess\" if POSTPROCESS else \"\"}.csv'\n",
    "    df = pd.DataFrame(results)\n",
    "    df.to_csv(csv_name, index=False)\n",
    "    print(df)\n",
    "    print(\n",
    "        df[\n",
    "            ['accuracy', 'dice', 'iou', 'precision', 'recall', 'volumetric_similarity']\n",
    "        ].mean()\n",
    "    )\n"
   ]
  },
  {
   "cell_type": "code",
   "execution_count": null,
   "metadata": {},
   "outputs": [],
   "source": []
  }
 ],
 "metadata": {
  "accelerator": "GPU",
  "colab": {
   "collapsed_sections": [],
   "name": "Copy of Proper Evaluate.ipynb",
   "provenance": [],
   "version": "0.3.2"
  },
  "kernelspec": {
   "display_name": "Python 3",
   "language": "python",
   "name": "python3"
  },
  "language_info": {
   "codemirror_mode": {
    "name": "ipython",
    "version": 3
   },
   "file_extension": ".py",
   "mimetype": "text/x-python",
   "name": "python",
   "nbconvert_exporter": "python",
   "pygments_lexer": "ipython3",
   "version": "3.7.2"
  }
 },
 "nbformat": 4,
 "nbformat_minor": 1
}
